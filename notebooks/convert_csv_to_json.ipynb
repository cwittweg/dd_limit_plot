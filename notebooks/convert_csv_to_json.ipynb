{
 "cells": [
  {
   "cell_type": "code",
   "execution_count": 1,
   "metadata": {},
   "outputs": [],
   "source": [
    "# Modules\n",
    "import numpy as np\n",
    "import scipy.stats as sps\n",
    "import json"
   ]
  },
  {
   "cell_type": "code",
   "execution_count": 2,
   "metadata": {},
   "outputs": [],
   "source": [
    "# File structure\n",
    "fields = [\n",
    "    \"name\", #unique ID\n",
    "    \"description\", #cleartext description of UL\n",
    "    \"provenance\", #webplotdigitized, published by collaboration etc. \n",
    "    \"reference\", #bibtex compatible reference\n",
    "    \"independent_variable\", #wimp_mass, exposure, axion coupling etc. \n",
    "    \"independent_variable_units\", #\n",
    "    \"independent_variable_label\", #\n",
    "    \"limit_units\", #\n",
    "    \"limit_label\", #\n",
    "    \"confidence level\",\n",
    "    \"wimp_masses\",\n",
    "    \"exposure\",\n",
    "    \"upper_limit\",\n",
    "    \"lower_limit\",\n",
    "    \"discovery_significance\",\n",
    "    \"expected_signal\",\n",
    "    \"sensitivity_quantiles\",\n",
    "    \"sensitivity_for_quantiles\",\n",
    "]"
   ]
  },
  {
   "cell_type": "code",
   "execution_count": 26,
   "metadata": {},
   "outputs": [],
   "source": [
    "file_name = 'darwin_SI_proj_2016'\n",
    "raw_data = np.loadtxt(\"../data/{}.csv\".format(filename),skiprows=1, delimiter=\",\", usecols=(1,2))"
   ]
  },
  {
   "cell_type": "code",
   "execution_count": 27,
   "metadata": {},
   "outputs": [],
   "source": [
    "data = {f:\"\" for f in fields}\n",
    "overwrites = dict(\n",
    "    name = file_name,\n",
    "    description = \"Projected limit on SI WIMP-nucleon interactions for DARWIN\",\n",
    "    provenance =\"collaboration\",\n",
    "    reference = \"\"\"\n",
    "    @article{DARWIN:2016hyl,\n",
    "    author = \"Aalbers, J. and others\",\n",
    "    collaboration = \"DARWIN\",\n",
    "    title = \"{DARWIN: towards the ultimate dark matter detector}\",\n",
    "    eprint = \"1606.07001\",\n",
    "    archivePrefix = \"arXiv\",\n",
    "    primaryClass = \"astro-ph.IM\",\n",
    "    doi = \"10.1088/1475-7516/2016/11/017\",\n",
    "    journal = \"JCAP\",\n",
    "    volume = \"11\",\n",
    "    pages = \"017\",\n",
    "    year = \"2016\"\n",
    "}\n",
    "    \"\"\",\n",
    "    independent_variable =\"wimp_mass\",\n",
    "    independent_variable_units=\"GeV/c^2\",\n",
    "    independent_variable_label=\"WIMP mass [GeV/c$^2$]\",\n",
    "    limit_units = \"cm^2\",\n",
    "    limit_label = \"WIMP-nucleon cross-section [cm$^2$]\",\n",
    "    confidence_level=\"0.9\",\n",
    "    wimp_masses = list(raw_data[:,0]),\n",
    "    lower_limit = list(np.zeros(len(raw_data[:,0]))),\n",
    "    upper_limit = list(raw_data[:,1]),\n",
    "    #discovery_significance = \"0.3\",\n",
    "    #sensitivity_quantiles = list([\"{:.3f}\".format(sps.norm().cdf(s)) for s in [-2,-1,0,1,2]]),\n",
    "    #sensitivity_for_quantiles = [list(raw_data[:,i]) for i in [2,3,4,5,6]]\n",
    ")\n",
    "data.update(overwrites)\n",
    "json.dumps(data)\n",
    "with open(\"../data_json/{}.json\".format(file_name),\"w\") as json_file:\n",
    "    json.dump(data,json_file)   "
   ]
  }
 ],
 "metadata": {
  "kernelspec": {
   "display_name": "Python 3",
   "language": "python",
   "name": "python3"
  },
  "language_info": {
   "codemirror_mode": {
    "name": "ipython",
    "version": 3
   },
   "file_extension": ".py",
   "mimetype": "text/x-python",
   "name": "python",
   "nbconvert_exporter": "python",
   "pygments_lexer": "ipython3",
   "version": "3.9.6"
  }
 },
 "nbformat": 4,
 "nbformat_minor": 2
}
