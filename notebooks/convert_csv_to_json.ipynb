{
 "cells": [
  {
   "cell_type": "code",
   "execution_count": 15,
   "metadata": {
    "collapsed": true
   },
   "outputs": [],
   "source": [
    "import numpy as np\n",
    "import scipy.stats as sps\n",
    "import json\n"
   ]
  },
  {
   "cell_type": "code",
   "execution_count": 3,
   "metadata": {
    "collapsed": true
   },
   "outputs": [],
   "source": [
    "fields = [\n",
    "    \"name\", #unique ID\n",
    "    \"description\", #cleartext description of UL\n",
    "    \"provenance\", #webplotdigitized, published by collaboration etc. \n",
    "    \"reference\", #bibtex compatible reference\n",
    "    \"independent_variable\", #wimp_mass, exposure, axion coupling etc. \n",
    "    \"independent_variable_units\", #\n",
    "    \"independent_variable_label\", #\n",
    "    \"limit_units\", #\n",
    "    \"limit_label\", #\n",
    "    \"confidence level\",\n",
    "    \"wimp_masses\",\n",
    "    \"exposure\",\n",
    "    \"upper_limit\",\n",
    "    \"lower_limit\",\n",
    "    \"discovery_significance\",\n",
    "    \"expected_signal\",\n",
    "    \"sensitivity_quantiles\",\n",
    "    \"sensitivity_for_quantiles\",\n",
    "]"
   ]
  },
  {
   "cell_type": "markdown",
   "metadata": {},
   "source": [
    "## XENON1T SI "
   ]
  },
  {
   "cell_type": "code",
   "execution_count": 13,
   "metadata": {
    "collapsed": false
   },
   "outputs": [],
   "source": [
    "a = np.loadtxt(\"../data/xenon1t_1ty.csv\",skiprows=2,delimiter=\",\")"
   ]
  },
  {
   "cell_type": "code",
   "execution_count": 23,
   "metadata": {
    "collapsed": false
   },
   "outputs": [],
   "source": [
    "res_xenon1t_si = {f:\"\" for f in fields}\n",
    "overwrites = dict(\n",
    "    name = \"xenon1t_si\",\n",
    "    description = \"Limits on SI WIMP-nucleon interactions using 1 ty of XENON1T data\",\n",
    "    provenance =\"collaboration\",\n",
    "    reference = \"\"\"@article{XENON:2018voc,\n",
    "    author = \"Aprile, E. and others\",\n",
    "    collaboration = \"XENON\",\n",
    "    title = \"{Dark Matter Search Results from a One Ton-Year Exposure of XENON1T}\",\n",
    "    eprint = \"1805.12562\",\n",
    "    archivePrefix = \"arXiv\",\n",
    "    primaryClass = \"astro-ph.CO\",\n",
    "    doi = \"10.1103/PhysRevLett.121.111302\",\n",
    "    journal = \"Phys. Rev. Lett.\",\n",
    "    volume = \"121\",\n",
    "    number = \"11\",\n",
    "    pages = \"111302\",\n",
    "    year = \"2018\"\n",
    "    }\"\"\",\n",
    "    independent_variable =\"wimp_mass\",\n",
    "    independent_variable_units=\"GeV/c^2\",\n",
    "    independent_variable_label=\"WIMP mass [GeV/c$^2$]\",\n",
    "    limit_units = \"cm^2\",\n",
    "    limit_label = \"WIMP-nucleon cross-section $\\\\sigma_\\\\mathrm{SI}$ [cm$^2$]\",\n",
    "    confidence_level=\"0.9\",\n",
    "    wimp_masses = list(a[:,0]),\n",
    "    lower_limit = list(np.zeros(len(a[:,0]))),\n",
    "    upper_limit = list(a[:,1]),\n",
    "    sensitivity_quantiles = list([\"{:.3f}\".format(sps.norm().cdf(s)) for s in [-2,-1,0,1,2]]),\n",
    "    sensitivity_for_quantiles = [list(a[:,i]) for i in [2,3,4,5,6]]\n",
    "    \n",
    "    \n",
    ")\n",
    "res_xenon1t_si.update(overwrites)\n",
    "json.dumps(res_xenon1t_si)\n",
    "with open(\"../data_json/xenon1t_si.json\",\"w\") as json_file:\n",
    "    json.dump(res_xenon1t_si,json_file)\n",
    "    "
   ]
  }
 ],
 "metadata": {
  "kernelspec": {
   "display_name": "Python 3",
   "language": "python",
   "name": "python3"
  },
  "language_info": {
   "codemirror_mode": {
    "name": "ipython",
    "version": 3
   },
   "file_extension": ".py",
   "mimetype": "text/x-python",
   "name": "python",
   "nbconvert_exporter": "python",
   "pygments_lexer": "ipython3",
   "version": "3.4.5"
  }
 },
 "nbformat": 4,
 "nbformat_minor": 2
}
